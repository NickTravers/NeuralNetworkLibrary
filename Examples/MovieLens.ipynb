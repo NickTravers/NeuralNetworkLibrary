{
 "cells": [
  {
   "cell_type": "markdown",
   "metadata": {},
   "source": [
    "# MovieLens Rating Prediction"
   ]
  },
  {
   "cell_type": "markdown",
   "metadata": {},
   "source": [
    "$\\textbf{Data Source}$: \n",
    "MovieLens Dataset https://grouplens.org/datasets/movielens/\n",
    "\n",
    "$\\textbf{Data Preparation}$:\n",
    "To run this Jupyter Notebook, download the MovieLens 20M dataset version from the above website. Then place the 'ratings.csv' file in the 'MovieLens' directory of your cloned version of the NeuralNetworkLibrary repository.\n",
    "\n",
    "$\\textbf{Objective}$:\n",
    "Collaborative Filtering - Predict how users will rate movies (on scale of 0.5 to 5)."
   ]
  },
  {
   "cell_type": "code",
   "execution_count": 1,
   "metadata": {},
   "outputs": [],
   "source": [
    "# Automatic reloading and inline plotting\n",
    "%reload_ext autoreload\n",
    "%autoreload 2\n",
    "%matplotlib inline\n",
    "\n",
    "# Imports\n",
    "import sys\n",
    "sys.path.append(\"../\")\n",
    "from Applications.CollabFiltering import *"
   ]
  },
  {
   "cell_type": "markdown",
   "metadata": {},
   "source": [
    "### Quick Look at the Data"
   ]
  },
  {
   "cell_type": "code",
   "execution_count": 2,
   "metadata": {},
   "outputs": [
    {
     "name": "stdout",
     "output_type": "stream",
     "text": [
      "20000263\n"
     ]
    },
    {
     "data": {
      "text/html": [
       "<div>\n",
       "<style scoped>\n",
       "    .dataframe tbody tr th:only-of-type {\n",
       "        vertical-align: middle;\n",
       "    }\n",
       "\n",
       "    .dataframe tbody tr th {\n",
       "        vertical-align: top;\n",
       "    }\n",
       "\n",
       "    .dataframe thead th {\n",
       "        text-align: right;\n",
       "    }\n",
       "</style>\n",
       "<table border=\"1\" class=\"dataframe\">\n",
       "  <thead>\n",
       "    <tr style=\"text-align: right;\">\n",
       "      <th></th>\n",
       "      <th>userId</th>\n",
       "      <th>movieId</th>\n",
       "      <th>rating</th>\n",
       "      <th>timestamp</th>\n",
       "    </tr>\n",
       "  </thead>\n",
       "  <tbody>\n",
       "    <tr>\n",
       "      <th>0</th>\n",
       "      <td>1</td>\n",
       "      <td>2</td>\n",
       "      <td>3.5</td>\n",
       "      <td>1112486027</td>\n",
       "    </tr>\n",
       "    <tr>\n",
       "      <th>1</th>\n",
       "      <td>1</td>\n",
       "      <td>29</td>\n",
       "      <td>3.5</td>\n",
       "      <td>1112484676</td>\n",
       "    </tr>\n",
       "    <tr>\n",
       "      <th>2</th>\n",
       "      <td>1</td>\n",
       "      <td>32</td>\n",
       "      <td>3.5</td>\n",
       "      <td>1112484819</td>\n",
       "    </tr>\n",
       "    <tr>\n",
       "      <th>3</th>\n",
       "      <td>1</td>\n",
       "      <td>47</td>\n",
       "      <td>3.5</td>\n",
       "      <td>1112484727</td>\n",
       "    </tr>\n",
       "    <tr>\n",
       "      <th>4</th>\n",
       "      <td>1</td>\n",
       "      <td>50</td>\n",
       "      <td>3.5</td>\n",
       "      <td>1112484580</td>\n",
       "    </tr>\n",
       "    <tr>\n",
       "      <th>5</th>\n",
       "      <td>1</td>\n",
       "      <td>112</td>\n",
       "      <td>3.5</td>\n",
       "      <td>1094785740</td>\n",
       "    </tr>\n",
       "    <tr>\n",
       "      <th>6</th>\n",
       "      <td>1</td>\n",
       "      <td>151</td>\n",
       "      <td>4.0</td>\n",
       "      <td>1094785734</td>\n",
       "    </tr>\n",
       "    <tr>\n",
       "      <th>7</th>\n",
       "      <td>1</td>\n",
       "      <td>223</td>\n",
       "      <td>4.0</td>\n",
       "      <td>1112485573</td>\n",
       "    </tr>\n",
       "    <tr>\n",
       "      <th>8</th>\n",
       "      <td>1</td>\n",
       "      <td>253</td>\n",
       "      <td>4.0</td>\n",
       "      <td>1112484940</td>\n",
       "    </tr>\n",
       "    <tr>\n",
       "      <th>9</th>\n",
       "      <td>1</td>\n",
       "      <td>260</td>\n",
       "      <td>4.0</td>\n",
       "      <td>1112484826</td>\n",
       "    </tr>\n",
       "    <tr>\n",
       "      <th>10</th>\n",
       "      <td>1</td>\n",
       "      <td>293</td>\n",
       "      <td>4.0</td>\n",
       "      <td>1112484703</td>\n",
       "    </tr>\n",
       "    <tr>\n",
       "      <th>11</th>\n",
       "      <td>1</td>\n",
       "      <td>296</td>\n",
       "      <td>4.0</td>\n",
       "      <td>1112484767</td>\n",
       "    </tr>\n",
       "    <tr>\n",
       "      <th>12</th>\n",
       "      <td>1</td>\n",
       "      <td>318</td>\n",
       "      <td>4.0</td>\n",
       "      <td>1112484798</td>\n",
       "    </tr>\n",
       "    <tr>\n",
       "      <th>13</th>\n",
       "      <td>1</td>\n",
       "      <td>337</td>\n",
       "      <td>3.5</td>\n",
       "      <td>1094785709</td>\n",
       "    </tr>\n",
       "    <tr>\n",
       "      <th>14</th>\n",
       "      <td>1</td>\n",
       "      <td>367</td>\n",
       "      <td>3.5</td>\n",
       "      <td>1112485980</td>\n",
       "    </tr>\n",
       "    <tr>\n",
       "      <th>15</th>\n",
       "      <td>1</td>\n",
       "      <td>541</td>\n",
       "      <td>4.0</td>\n",
       "      <td>1112484603</td>\n",
       "    </tr>\n",
       "    <tr>\n",
       "      <th>16</th>\n",
       "      <td>1</td>\n",
       "      <td>589</td>\n",
       "      <td>3.5</td>\n",
       "      <td>1112485557</td>\n",
       "    </tr>\n",
       "    <tr>\n",
       "      <th>17</th>\n",
       "      <td>1</td>\n",
       "      <td>593</td>\n",
       "      <td>3.5</td>\n",
       "      <td>1112484661</td>\n",
       "    </tr>\n",
       "    <tr>\n",
       "      <th>18</th>\n",
       "      <td>1</td>\n",
       "      <td>653</td>\n",
       "      <td>3.0</td>\n",
       "      <td>1094785691</td>\n",
       "    </tr>\n",
       "    <tr>\n",
       "      <th>19</th>\n",
       "      <td>1</td>\n",
       "      <td>919</td>\n",
       "      <td>3.5</td>\n",
       "      <td>1094785621</td>\n",
       "    </tr>\n",
       "  </tbody>\n",
       "</table>\n",
       "</div>"
      ],
      "text/plain": [
       "    userId  movieId  rating   timestamp\n",
       "0        1        2     3.5  1112486027\n",
       "1        1       29     3.5  1112484676\n",
       "2        1       32     3.5  1112484819\n",
       "3        1       47     3.5  1112484727\n",
       "4        1       50     3.5  1112484580\n",
       "5        1      112     3.5  1094785740\n",
       "6        1      151     4.0  1094785734\n",
       "7        1      223     4.0  1112485573\n",
       "8        1      253     4.0  1112484940\n",
       "9        1      260     4.0  1112484826\n",
       "10       1      293     4.0  1112484703\n",
       "11       1      296     4.0  1112484767\n",
       "12       1      318     4.0  1112484798\n",
       "13       1      337     3.5  1094785709\n",
       "14       1      367     3.5  1112485980\n",
       "15       1      541     4.0  1112484603\n",
       "16       1      589     3.5  1112485557\n",
       "17       1      593     3.5  1112484661\n",
       "18       1      653     3.0  1094785691\n",
       "19       1      919     3.5  1094785621"
      ]
     },
     "execution_count": 2,
     "metadata": {},
     "output_type": "execute_result"
    }
   ],
   "source": [
    "ratings_df = pd.read_csv('MovieLens/ratings.csv')\n",
    "print(len(ratings_df))\n",
    "ratings_df.head(20)"
   ]
  },
  {
   "cell_type": "code",
   "execution_count": 3,
   "metadata": {},
   "outputs": [
    {
     "name": "stdout",
     "output_type": "stream",
     "text": [
      "num users = 138493\n",
      "num movies = 26744\n",
      "ratings_value_counts\n",
      "4.0    5561926\n",
      "3.0    4291193\n",
      "5.0    2898660\n",
      "3.5    2200156\n",
      "4.5    1534824\n",
      "2.0    1430997\n",
      "2.5     883398\n",
      "1.0     680732\n",
      "1.5     279252\n",
      "0.5     239125\n",
      "Name: rating, dtype: int64\n"
     ]
    }
   ],
   "source": [
    "num_users = len(ratings_df['userId'].unique())\n",
    "num_movies = len(ratings_df['movieId'].unique())\n",
    "ratings_value_counts = ratings_df['rating'].value_counts()\n",
    "\n",
    "print('num users =', num_users)\n",
    "print('num movies =', num_movies)\n",
    "print('ratings_value_counts')\n",
    "print(ratings_value_counts)"
   ]
  },
  {
   "cell_type": "markdown",
   "metadata": {},
   "source": [
    "So, we have 138,493 different users, 26,744 different movies, and users rate movies with values in range [0.5,5]. Of course, most users have not rated most movies. Our goal is to predict how a user will rate a movie they have not yet seen."
   ]
  },
  {
   "cell_type": "markdown",
   "metadata": {},
   "source": [
    "### Define DataObj, Model, and Learner"
   ]
  },
  {
   "cell_type": "code",
   "execution_count": 4,
   "metadata": {},
   "outputs": [],
   "source": [
    "PATH = 'MovieLens/'\n",
    "data = CollabFilterDataObj.from_csv('MovieLens/ratings.csv','userId','movieId','rating',bs=8192)\n",
    "model = CollabFilterNet.from_dataobj(data, emb_dim=30, output_range=[0.45,5.05])\n",
    "learner = Learner(PATH, data, model, optimizer='Adam')"
   ]
  },
  {
   "cell_type": "markdown",
   "metadata": {},
   "source": [
    "NOTE 1: It is good to set the $\\textbf{output_range}$ parameter slighlty larger than the true range of possible outputs (in our case [0.5,5.0]). This is because we use a scaled+shifted sigmoid function to force predictions into the specified range, so the listed max/min are not really acheivable. It would require an input of +/- infinity to the sigmoid."
   ]
  },
  {
   "cell_type": "markdown",
   "metadata": {},
   "source": [
    "NOTE 2: The embedding dimension parameter, $\\textbf{emb_dim}$, controls how many different 'dimensions' or 'properties' are important to a user in rating an item (as far as the model is concerned). For instance, we might have things like 'comedy content', 'dialogue quality', or 'action content' for movies. However, these properties are not pre-specified when creating the model, but rather the important properties are inferred from the data. All we pick is the number of them we think might be reasonable. \n",
    "\n",
    "For movies, which are a relatively complex and varied thing to evaluate, a fairly large embedding dimension of 30 seemed reasonable. For something simpler like rating a pair of sneakers, a lower emedding dimension (perhaps 4 or 5) might be better. Using too small of an embedding dimension leads to a less complex model, which may not capture all the important relations in the rating process, and thus give poorer results. However, choosing too high of an embedding dimension can lead to overfitting. "
   ]
  },
  {
   "cell_type": "markdown",
   "metadata": {},
   "source": [
    "### Training"
   ]
  },
  {
   "cell_type": "markdown",
   "metadata": {},
   "source": [
    "We will use L2 weight decay (wd) to avoid overfitting. Because many movies have been rated by only a few users, there may be some tendency to overfit to training data, even if the embedding dimension is not too high. (I first tried without weight decay, and results were not quite as good, over a range of embedding dimensions.) \n",
    "\n",
    "We will also use the one-cycle training procedure, instead of training with a constant learning rate and then cycles. \n",
    "This procedure tends to work well for networks that do NOT have a pretrained component (like vision models do)."
   ]
  },
  {
   "cell_type": "code",
   "execution_count": 5,
   "metadata": {},
   "outputs": [
    {
     "data": {
      "application/vnd.jupyter.widget-view+json": {
       "model_id": "0cde05bcec624213a05c1948b4fbbbf2",
       "version_major": 2,
       "version_minor": 0
      },
      "text/plain": [
       "HBox(children=(IntProgress(value=0, description='Training', max=1954, style=ProgressStyle(description_width='i…"
      ]
     },
     "metadata": {},
     "output_type": "display_data"
    },
    {
     "data": {
      "image/png": "[encoded data removed]",
      "text/plain": [
       "<Figure size 864x432 with 2 Axes>"
      ]
     },
     "metadata": {
      "needs_background": "light"
     },
     "output_type": "display_data"
    }
   ],
   "source": [
    "# Select Learning Rate\n",
    "learner.find_lr(wd=1e-4)"
   ]
  },
  {
   "cell_type": "code",
   "execution_count": 6,
   "metadata": {},
   "outputs": [
    {
     "name": "stdout",
     "output_type": "stream",
     "text": [
      "epoch   train_loss  val_loss    \n",
      "\n",
      "0       0.65897     0.65799       epoch run time: 1 min, 27.34 sec\n",
      "1       0.56361     0.61741       epoch run time: 1 min, 26.40 sec\n"
     ]
    }
   ],
   "source": [
    "# Train using the one cycle method for 2 epochs \n",
    "learner.fit_one_cycle(lr_max=0.01, num_epochs=2,  wd=1e-4, save_name='1cycle', save_method='best')\n",
    "\n",
    "# NOTE:\n",
    "# For the one-cycle procedure it is advisable to choose a learning rate somewhat higher than \n",
    "# normal. Usually about the minimum of the train_loss curve (from find_lr method) or slightly above the \n",
    "# min, rather than a factor of 10 below min."
   ]
  },
  {
   "cell_type": "code",
   "execution_count": 7,
   "metadata": {},
   "outputs": [
    {
     "data": {
      "application/vnd.jupyter.widget-view+json": {
       "model_id": "fe591463689f4564b064c58f91220dff",
       "version_major": 2,
       "version_minor": 0
      },
      "text/plain": [
       "HBox(children=(IntProgress(value=0, description='Eval-Val', max=489, style=ProgressStyle(description_width='in…"
      ]
     },
     "metadata": {},
     "output_type": "display_data"
    },
    {
     "name": "stdout",
     "output_type": "stream",
     "text": [
      "mean squared error = 0.6174121380209083\n",
      "root mean squared error = 0.7857557750477615\n"
     ]
    }
   ],
   "source": [
    "loss = learner.evaluate('val')[0]\n",
    "print('mean squared error =',loss)\n",
    "print('root mean squared error =',np.sqrt(loss))"
   ]
  },
  {
   "cell_type": "markdown",
   "metadata": {},
   "source": [
    "Plots below show what the one-cycle procedure looks like in terms of lr and betas schedules during training. (With an SGD optimizer, momemtum schedule follows same trend as the betas_1 schedule for Adam optimizer.)"
   ]
  },
  {
   "cell_type": "code",
   "execution_count": 8,
   "metadata": {},
   "outputs": [
    {
     "data": {
      "image/png": "[encoded data removed]",
      "text/plain": [
       "<Figure size 864x432 with 2 Axes>"
      ]
     },
     "metadata": {
      "needs_background": "light"
     },
     "output_type": "display_data"
    }
   ],
   "source": [
    "plt.figure(figsize=(12,6))\n",
    "\n",
    "plt.subplot(1,2,1)\n",
    "learner.plot_lr_sched()\n",
    "\n",
    "plt.subplot(1,2,2)\n",
    "learner.plot_beta_sched()"
   ]
  },
  {
   "cell_type": "markdown",
   "metadata": {},
   "source": [
    "### Ensembling"
   ]
  },
  {
   "cell_type": "markdown",
   "metadata": {},
   "source": [
    "This single-model result is decent, but we will now try to improve it by creating an ensemble using different embedding sizes. For simplicity, we will use the same training procedure for all sizes, and not try to tune the learning rate or other training parameters to the embedding sizes. "
   ]
  },
  {
   "cell_type": "code",
   "execution_count": 9,
   "metadata": {},
   "outputs": [],
   "source": [
    "PATH = 'MovieLens/'\n",
    "data = CollabFilterDataObj.from_csv('MovieLens/ratings.csv','userId','movieId','rating',bs=8192)\n",
    "\n",
    "emb_dims = [10,20,30,50]\n",
    "Models = [] \n",
    "val_losses = {}\n",
    "\n",
    "for emb_dim in emb_dims:\n",
    "    \n",
    "    clear_output()\n",
    "    print('emb_dim = ',emb_dim)\n",
    "    model = CollabFilterNet.from_dataobj(data, emb_dim, output_range=[0.45,5.05])\n",
    "    learner = Learner(PATH, data, model, optimizer='Adam')\n",
    "    learner.fit_one_cycle(lr_max=0.01, num_epochs=2,  wd=1e-4, save_name='emb'+str(emb_dim), save_method='best')    \n",
    "    \n",
    "    learner.load('emb'+str(emb_dim))\n",
    "    Models.append(learner.model)\n",
    "    loss = learner.evaluate('val')[0]\n",
    "    val_losses[emb_dim] = loss \n",
    "    \n",
    "clear_output()"
   ]
  },
  {
   "cell_type": "code",
   "execution_count": 10,
   "metadata": {},
   "outputs": [
    {
     "name": "stdout",
     "output_type": "stream",
     "text": [
      "10 0.6320610709132282\n",
      "20 0.6179949893679914\n",
      "30 0.61756830313512\n",
      "50 0.6245555911663925\n"
     ]
    }
   ],
   "source": [
    "#Losses for each embedding dimension 10,20,30,50\n",
    "for k,v in val_losses.items():\n",
    "    print(k,v)"
   ]
  },
  {
   "cell_type": "markdown",
   "metadata": {},
   "source": [
    "So, we see the results from an embedding dimension of 30 were best, but the losses are pretty stable \n",
    "over the range of embedding dimensions 10 to 50. "
   ]
  },
  {
   "cell_type": "code",
   "execution_count": 11,
   "metadata": {},
   "outputs": [
    {
     "data": {
      "application/vnd.jupyter.widget-view+json": {
       "model_id": "d423c203a5cf4c8eb6df74a80206c48f",
       "version_major": 2,
       "version_minor": 0
      },
      "text/plain": [
       "HBox(children=(IntProgress(value=0, description='Eval-Val', max=489, style=ProgressStyle(description_width='in…"
      ]
     },
     "metadata": {},
     "output_type": "display_data"
    },
    {
     "name": "stdout",
     "output_type": "stream",
     "text": [
      "mean squared error = 0.596770850674031\n",
      "root mean squared error = 0.7725094502166501\n"
     ]
    }
   ],
   "source": [
    "# Create Ensemble\n",
    "EnsembleModel = CollabFilterEnsembleNet(Models)\n",
    "learner.model = EnsembleModel\n",
    "\n",
    "# Evaluate Predictions of Ensemble Model\n",
    "loss = learner.evaluate('val')[0]\n",
    "print('mean squared error =',loss)\n",
    "print('root mean squared error =',np.sqrt(loss))"
   ]
  },
  {
   "cell_type": "code",
   "execution_count": null,
   "metadata": {},
   "outputs": [],
   "source": []
  }
 ],
 "metadata": {
  "kernelspec": {
   "display_name": "Python 3",
   "language": "python",
   "name": "python3"
  },
  "language_info": {
   "codemirror_mode": {
    "name": "ipython",
    "version": 3
   },
   "file_extension": ".py",
   "mimetype": "text/x-python",
   "name": "python",
   "nbconvert_exporter": "python",
   "pygments_lexer": "ipython3",
   "version": "3.7.3"
  }
 },
 "nbformat": 4,
 "nbformat_minor": 2
}
